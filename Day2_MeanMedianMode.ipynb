{
 "cells": [
  {
   "cell_type": "code",
   "execution_count": 3,
   "metadata": {},
   "outputs": [
    {
     "name": "stdout",
     "output_type": "stream",
     "text": [
      "[18421.22466146 25906.84435472 32742.21712593 ... 36537.00265528\n",
      " 24433.65260199 54183.64047283]\n"
     ]
    }
   ],
   "source": [
    "import numpy as np\n",
    "income = np.random.normal(27000, 15000, 10000)\n",
    "print(income)"
   ]
  },
  {
   "cell_type": "code",
   "execution_count": 4,
   "metadata": {},
   "outputs": [
    {
     "name": "stdout",
     "output_type": "stream",
     "text": [
      "27193.589866296636\n"
     ]
    }
   ],
   "source": [
    "print(np.mean(income))"
   ]
  },
  {
   "cell_type": "code",
   "execution_count": 5,
   "metadata": {},
   "outputs": [
    {
     "name": "stdout",
     "output_type": "stream",
     "text": [
      "27369.74320047839\n"
     ]
    }
   ],
   "source": [
    "print(np.median(income))"
   ]
  },
  {
   "cell_type": "code",
   "execution_count": 8,
   "metadata": {},
   "outputs": [
    {
     "name": "stdout",
     "output_type": "stream",
     "text": [
      "[99 90 88 39 37 91 83 55 68 65 93 78 60 62 76 71 85 84 64 73 53 45 88 43\n",
      " 90 40 29 67 61 32 91 80 65 51 56 52 74 75 65 71 86 74 49 37 79 73 81 91\n",
      " 95 71 93 47 21 52 42 40 83 45 39 63 21 50 64 25 86 84 22 77 84 34 49 85\n",
      " 89 59 88 39 36 34 97 23 77 91 95 49 72 89 23 54 23 62 33 56 19 86 27 29\n",
      " 84 98 66 25]\n"
     ]
    }
   ],
   "source": [
    "nums = np.random.randint(18, 100, 100)\n",
    "print(nums)"
   ]
  },
  {
   "cell_type": "code",
   "execution_count": 9,
   "metadata": {},
   "outputs": [
    {
     "data": {
      "text/plain": [
       "ModeResult(mode=84, count=4)"
      ]
     },
     "execution_count": 9,
     "metadata": {},
     "output_type": "execute_result"
    }
   ],
   "source": [
    "from scipy import stats\n",
    "stats.mode(nums)"
   ]
  }
 ],
 "metadata": {
  "kernelspec": {
   "display_name": "base",
   "language": "python",
   "name": "python3"
  },
  "language_info": {
   "codemirror_mode": {
    "name": "ipython",
    "version": 3
   },
   "file_extension": ".py",
   "mimetype": "text/x-python",
   "name": "python",
   "nbconvert_exporter": "python",
   "pygments_lexer": "ipython3",
   "version": "3.11.5"
  }
 },
 "nbformat": 4,
 "nbformat_minor": 2
}
